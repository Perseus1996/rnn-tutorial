{
 "cells": [
  {
   "cell_type": "markdown",
   "metadata": {},
   "source": [
    "# TensorFlow Overview\n",
    "\n",
    "## Programs as compute graphs"
   ]
  },
  {
   "cell_type": "code",
   "execution_count": null,
   "metadata": {},
   "outputs": [],
   "source": [
    "import tensorflow as tf\n",
    "a = tf.ones([100, 10], name='a')\n",
    "b = tf.ones([100, 10], name='b')\n",
    "c = a + b\n",
    "print(c) # Tensor(\"add:0\", shape=(100, 10), dtype=float32)"
   ]
  },
  {
   "cell_type": "markdown",
   "metadata": {},
   "source": [
    "## Executing programs with a session"
   ]
  },
  {
   "cell_type": "code",
   "execution_count": null,
   "metadata": {},
   "outputs": [],
   "source": [
    "with tf.Session() as sess:\n",
    "    value_of_c = sess.run(c)\n",
    "print(value_of_c) # [[2. 2. 2. ...], [2. 2. 2. ...], ...]"
   ]
  },
  {
   "cell_type": "code",
   "execution_count": null,
   "metadata": {},
   "outputs": [],
   "source": [
    "with tf.Session() as sess:\n",
    "    value_of_a , value_of_c = sess.run([a, c])\n",
    "print(value_of_a) # [[2. 2. 2. ...], [2. 2. 2. ...], ...]\n",
    "print(value_of_c) # [[2. 2. 2. ...], [2. 2. 2. ...], ...]"
   ]
  },
  {
   "cell_type": "markdown",
   "metadata": {},
   "source": [
    "## Stateful programs using variables"
   ]
  },
  {
   "cell_type": "code",
   "execution_count": null,
   "metadata": {},
   "outputs": [],
   "source": [
    "a = tf.get_variable(name='variable_a',\n",
    "                    shape=[],\n",
    "                    dtype=tf.float32 ,\n",
    "                    initializer=tf.constant_initializer(5))\n",
    "print(a)  # <tf.Variable 'variable_a:0' shape=() dtype=float32_ref>"
   ]
  },
  {
   "cell_type": "code",
   "execution_count": null,
   "metadata": {},
   "outputs": [],
   "source": [
    "initialize_op = tf.global_variables_initializer()\n",
    "with tf.Session() as sess:\n",
    "    sess.run(initialize_op) \n",
    "    print(sess.run(a)) # 5.0"
   ]
  },
  {
   "cell_type": "code",
   "execution_count": null,
   "metadata": {},
   "outputs": [],
   "source": [
    "assign_op = tf.assign(a, 10)\n",
    "with tf.Session() as sess: \n",
    "    sess.run(initialize_op) \n",
    "    print(sess.run(a)) # 5.0\n",
    "    sess.run(assign_op) \n",
    "    print(sess.run(a)) # 10.0"
   ]
  },
  {
   "cell_type": "markdown",
   "metadata": {},
   "source": [
    "## Automatic differentiation"
   ]
  },
  {
   "cell_type": "code",
   "execution_count": null,
   "metadata": {},
   "outputs": [],
   "source": [
    "loss = a ** 2\n",
    "optimizer = tf.train.GradientDescentOptimizer(learning_rate=0.1) \n",
    "minimize_op = optimizer.minimize(loss)\n",
    "with tf.Session() as sess: \n",
    "    sess.run(initialize_op)\n",
    "    print(sess.run(a)) # 5.0 \n",
    "    sess.run(minimize_op) \n",
    "    print(sess.run(a)) # 4.0\n",
    "    sess.run(minimize_op) \n",
    "    print(sess.run(a)) # 3.2"
   ]
  },
  {
   "cell_type": "markdown",
   "metadata": {},
   "source": [
    "## Execution order and dependencies"
   ]
  },
  {
   "cell_type": "code",
   "execution_count": null,
   "metadata": {},
   "outputs": [],
   "source": [
    "assign_op = a.assign(42) \n",
    "b = tf.constant(1.)\n",
    "c = a + b\n",
    "with tf.Session() as sess:\n",
    "    sess.run(initialize_op)\n",
    "    value, _ = sess.run([c, assign_op]) \n",
    "    print(value) # Sometimes 6.0, sometimes 43.0"
   ]
  },
  {
   "cell_type": "code",
   "execution_count": null,
   "metadata": {},
   "outputs": [],
   "source": [
    "assign_op = a.assign(42) \n",
    "b = tf.constant(1.)\n",
    "\n",
    "with tf.control_dependencies([assign_op]):\n",
    "    c = a + b\n",
    "    \n",
    "with tf.Session() as sess:\n",
    "    sess.run(initialize_op)\n",
    "    value = sess.run(c)  # Update a and then compute c\n",
    "    print(value) # Always 43.0\n",
    "    print(sess.run(a)) # 42"
   ]
  },
  {
   "cell_type": "markdown",
   "metadata": {},
   "source": [
    "## For-loops inside the graph"
   ]
  },
  {
   "cell_type": "code",
   "execution_count": null,
   "metadata": {},
   "outputs": [],
   "source": [
    "def loop_body(last_output, current_input):\n",
    "    # tf.scan() supports nested tuples, lists, and dict objects as\n",
    "    # inputs and outputs. In this example, the input sequence is a\n",
    "    # single tensor and the output sequence is a tuple of two tensors.\n",
    "    value = last_output[0] + current_input\n",
    "    current_output = (value, value * 2)\n",
    "    return current_output\n",
    "\n",
    "input_sequence = tf.constant([1, 2, 3, 4, 5])\n",
    "# The initializer is passed to the loop body as `last_output`\n",
    "# parameter at the first iteration. It must have the same type and\n",
    "# shape as the output of the loop body: a tuple of two scalar\n",
    "# integers in our case.\n",
    "initializer = (tf.constant(0), tf.constant(0))\n",
    "output_sequence = tf.scan(loop_body, input_sequence, initializer)\n",
    "\n",
    "print(tf.Session().run(output_sequence))\n",
    "# ([1, 3, 6, 10, 15], [2, 6, 12, 20, 30])"
   ]
  }
 ],
 "metadata": {
  "kernelspec": {
   "display_name": "Python 3",
   "language": "python",
   "name": "python3"
  },
  "language_info": {
   "codemirror_mode": {
    "name": "ipython",
    "version": 3
   },
   "file_extension": ".py",
   "mimetype": "text/x-python",
   "name": "python",
   "nbconvert_exporter": "python",
   "pygments_lexer": "ipython3",
   "version": "3.6.5"
  }
 },
 "nbformat": 4,
 "nbformat_minor": 2
}
